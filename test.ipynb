{
 "cells": [
  {
   "cell_type": "code",
   "execution_count": 9,
   "metadata": {},
   "outputs": [],
   "source": [
    "lista = [('Precio_Premium', '2'), ('Precio_Regular', ''), ('Precio_Corriente', ''), ('Cantidad_Premium', '2'), ('Cantidad_Regular', ''), ('Cantidad_Corriente', '')]\n",
    "valores = [valor for etiqueta, valor in lista]"
   ]
  },
  {
   "cell_type": "code",
   "execution_count": 10,
   "metadata": {},
   "outputs": [
    {
     "data": {
      "text/plain": [
       "['2', '', '', '2', '', '']"
      ]
     },
     "execution_count": 10,
     "metadata": {},
     "output_type": "execute_result"
    }
   ],
   "source": [
    "valores"
   ]
  },
  {
   "cell_type": "code",
   "execution_count": 11,
   "metadata": {},
   "outputs": [],
   "source": [
    "def multiplicar(valores):\n",
    "    \n",
    "    lista_totales=[]\n",
    "    for i in range(3):\n",
    "        try: \n",
    "            precio = valores[i]\n",
    "            cantidad = valores[i+3]\n",
    "\n",
    "            total = float(precio) * float(cantidad)\n",
    "            lista_totales.append(total)\n",
    "\n",
    "        except:\n",
    "            total = float(0)\n",
    "            lista_totales.append(total)\n",
    "    \n",
    "    return lista_totales"
   ]
  },
  {
   "cell_type": "code",
   "execution_count": 12,
   "metadata": {},
   "outputs": [
    {
     "data": {
      "text/plain": [
       "[4.0, 0.0, 0.0]"
      ]
     },
     "execution_count": 12,
     "metadata": {},
     "output_type": "execute_result"
    }
   ],
   "source": [
    "multiplicar(valores)"
   ]
  }
 ],
 "metadata": {
  "kernelspec": {
   "display_name": "venv",
   "language": "python",
   "name": "python3"
  },
  "language_info": {
   "codemirror_mode": {
    "name": "ipython",
    "version": 3
   },
   "file_extension": ".py",
   "mimetype": "text/x-python",
   "name": "python",
   "nbconvert_exporter": "python",
   "pygments_lexer": "ipython3",
   "version": "3.9.13"
  },
  "orig_nbformat": 4,
  "vscode": {
   "interpreter": {
    "hash": "c2979d6ce4de149c7b5f63df0150b583da57c588c1f4045a0f9de2d1ff48b45e"
   }
  }
 },
 "nbformat": 4,
 "nbformat_minor": 2
}
