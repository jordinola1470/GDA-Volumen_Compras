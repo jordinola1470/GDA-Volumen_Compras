{
 "cells": [
  {
   "cell_type": "code",
   "execution_count": 1,
   "metadata": {},
   "outputs": [],
   "source": [
    "import pandas as pd"
   ]
  },
  {
   "cell_type": "code",
   "execution_count": 2,
   "metadata": {},
   "outputs": [
    {
     "name": "stdout",
     "output_type": "stream",
     "text": [
      "{'Precio_Premium': '2', 'Precio_Regular': '', 'Precio_Corriente': '', 'Cantidad_Premium': '2', 'Cantidad_Regular': '', 'Cantidad_Corriente': ''}\n"
     ]
    }
   ],
   "source": [
    "lista = [('Precio_Premium', '2'), ('Precio_Regular', ''), ('Precio_Corriente', ''), ('Cantidad_Premium', '2'), ('Cantidad_Regular', ''), ('Cantidad_Corriente', '')]\n",
    "dict_lista = dict(lista)\n",
    "valores = [valor for etiqueta, valor in lista]\n",
    "print(dict_lista)"
   ]
  },
  {
   "cell_type": "code",
   "execution_count": 7,
   "metadata": {},
   "outputs": [
    {
     "data": {
      "text/html": [
       "<div>\n",
       "<style scoped>\n",
       "    .dataframe tbody tr th:only-of-type {\n",
       "        vertical-align: middle;\n",
       "    }\n",
       "\n",
       "    .dataframe tbody tr th {\n",
       "        vertical-align: top;\n",
       "    }\n",
       "\n",
       "    .dataframe thead th {\n",
       "        text-align: right;\n",
       "    }\n",
       "</style>\n",
       "<table border=\"1\" class=\"dataframe\">\n",
       "  <thead>\n",
       "    <tr style=\"text-align: right;\">\n",
       "      <th></th>\n",
       "      <th>Precio_Premium</th>\n",
       "      <th>Precio_Regular</th>\n",
       "      <th>Precio_Corriente</th>\n",
       "      <th>Cantidad_Premium</th>\n",
       "      <th>Cantidad_Regular</th>\n",
       "      <th>Cantidad_Corriente</th>\n",
       "    </tr>\n",
       "  </thead>\n",
       "  <tbody>\n",
       "    <tr>\n",
       "      <th>0</th>\n",
       "      <td>2</td>\n",
       "      <td></td>\n",
       "      <td></td>\n",
       "      <td>2</td>\n",
       "      <td></td>\n",
       "      <td></td>\n",
       "    </tr>\n",
       "  </tbody>\n",
       "</table>\n",
       "</div>"
      ],
      "text/plain": [
       "  Precio_Premium Precio_Regular Precio_Corriente Cantidad_Premium  \\\n",
       "0              2                                                2   \n",
       "\n",
       "  Cantidad_Regular Cantidad_Corriente  \n",
       "0                                      "
      ]
     },
     "execution_count": 7,
     "metadata": {},
     "output_type": "execute_result"
    }
   ],
   "source": [
    "df = pd.DataFrame([dict_lista])\n",
    "df"
   ]
  },
  {
   "cell_type": "code",
   "execution_count": 10,
   "metadata": {},
   "outputs": [
    {
     "data": {
      "text/plain": [
       "['2', '', '', '2', '', '']"
      ]
     },
     "execution_count": 10,
     "metadata": {},
     "output_type": "execute_result"
    }
   ],
   "source": [
    "valores"
   ]
  },
  {
   "cell_type": "code",
   "execution_count": 11,
   "metadata": {},
   "outputs": [],
   "source": [
    "def multiplicar(valores):\n",
    "    \n",
    "    lista_totales=[]\n",
    "    for i in range(3):\n",
    "        try: \n",
    "            precio = valores[i]\n",
    "            cantidad = valores[i+3]\n",
    "\n",
    "            total = float(precio) * float(cantidad)\n",
    "            lista_totales.append(total)\n",
    "\n",
    "        except:\n",
    "            total = float(0)\n",
    "            lista_totales.append(total)\n",
    "    \n",
    "    return lista_totales"
   ]
  },
  {
   "cell_type": "code",
   "execution_count": 12,
   "metadata": {},
   "outputs": [
    {
     "data": {
      "text/plain": [
       "[4.0, 0.0, 0.0]"
      ]
     },
     "execution_count": 12,
     "metadata": {},
     "output_type": "execute_result"
    }
   ],
   "source": [
    "multiplicar(valores)"
   ]
  }
 ],
 "metadata": {
  "kernelspec": {
   "display_name": "venv",
   "language": "python",
   "name": "python3"
  },
  "language_info": {
   "codemirror_mode": {
    "name": "ipython",
    "version": 3
   },
   "file_extension": ".py",
   "mimetype": "text/x-python",
   "name": "python",
   "nbconvert_exporter": "python",
   "pygments_lexer": "ipython3",
   "version": "3.9.13"
  },
  "orig_nbformat": 4,
  "vscode": {
   "interpreter": {
    "hash": "c2979d6ce4de149c7b5f63df0150b583da57c588c1f4045a0f9de2d1ff48b45e"
   }
  }
 },
 "nbformat": 4,
 "nbformat_minor": 2
}
