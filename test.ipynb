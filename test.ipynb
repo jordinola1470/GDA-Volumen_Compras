{
 "cells": [
  {
   "cell_type": "code",
   "execution_count": 9,
   "metadata": {},
   "outputs": [],
   "source": [
    "import pandas as pd\n",
    "import os"
   ]
  },
  {
   "cell_type": "code",
   "execution_count": 11,
   "metadata": {},
   "outputs": [
    {
     "name": "stdout",
     "output_type": "stream",
     "text": [
      "/Users/josealonsoordinolaaucca/Documents/Documentos/Programacion\n"
     ]
    }
   ],
   "source": [
    "directorio_actual = os.getcwd()\n",
    "directorio_madre  = os.path.dirname(directorio_actual)\n",
    "\n",
    "print(directorio_madre)"
   ]
  }
 ],
 "metadata": {
  "kernelspec": {
   "display_name": "venv",
   "language": "python",
   "name": "python3"
  },
  "language_info": {
   "codemirror_mode": {
    "name": "ipython",
    "version": 3
   },
   "file_extension": ".py",
   "mimetype": "text/x-python",
   "name": "python",
   "nbconvert_exporter": "python",
   "pygments_lexer": "ipython3",
   "version": "3.9.13"
  },
  "orig_nbformat": 4,
  "vscode": {
   "interpreter": {
    "hash": "c2979d6ce4de149c7b5f63df0150b583da57c588c1f4045a0f9de2d1ff48b45e"
   }
  }
 },
 "nbformat": 4,
 "nbformat_minor": 2
}
